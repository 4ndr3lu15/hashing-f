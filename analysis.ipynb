{
 "cells": [
  {
   "cell_type": "code",
   "execution_count": 38,
   "metadata": {},
   "outputs": [],
   "source": [
    "import table\n",
    "import fun\n",
    "import pandas as pd\n",
    "import random"
   ]
  },
  {
   "cell_type": "markdown",
   "metadata": {},
   "source": [
    "# Importing Data Base"
   ]
  },
  {
   "cell_type": "code",
   "execution_count": 57,
   "metadata": {},
   "outputs": [],
   "source": [
    "lexico = []\n",
    "with open('data/lexico_v3.0.txt') as f:\n",
    "    lines = f.readlines()\n",
    "\n",
    "for i in range(len(lines)):\n",
    "    a = lines[i].split(',')\n",
    "    a[3] = a[3][0]\n",
    "    lexico.append(a)"
   ]
  },
  {
   "cell_type": "markdown",
   "metadata": {},
   "source": [
    "### Choosing random 30 numbers to test the meantime_get"
   ]
  },
  {
   "cell_type": "code",
   "execution_count": 40,
   "metadata": {},
   "outputs": [
    {
     "name": "stdout",
     "output_type": "stream",
     "text": [
      "[12192, 13232, 16908, 30519, 21773, 28945, 8235, 7295, 12213, 15801, 2085, 27152, 14178, 4024, 16454, 4927, 19504, 24172, 14544, 27150, 21269, 24088, 20617, 3752, 7413, 10493, 22800, 13027, 10238, 19952, 23916, 8673, 3540, 27928, 6181, 7829, 15578, 18911, 14561, 20597, 29626, 26728, 25186, 2957, 12860, 28416, 14068, 21985, 892, 2512, 8307, 24588, 28379, 11733, 15777, 27188, 5522, 1510, 31159, 3443, 28948, 25250, 8054, 18788, 23861, 18908, 10252, 23833, 1679, 10814, 20534, 4296, 24553, 12267, 31310, 7559, 29894, 24549, 5016, 17065, 28223, 30744, 16263, 14418, 18853, 18280, 9984, 4076, 32171, 28065, 20054, 29228, 6961, 24206, 9267, 18491, 59, 31978, 12019, 27788, 3000]\n"
     ]
    }
   ],
   "source": [
    "randomlist = []\n",
    "while len(randomlist)<=100:\n",
    "    n = random.randint(0,32191)\n",
    "    if n in randomlist:\n",
    "        pass\n",
    "    else:\n",
    "        randomlist.append(n)\n",
    "print(randomlist)"
   ]
  },
  {
   "cell_type": "code",
   "execution_count": 41,
   "metadata": {},
   "outputs": [
    {
     "name": "stdout",
     "output_type": "stream",
     "text": [
      "['elegíaco', 'englobar-se', 'frívolos', 'tonificados', 'manifesto', 'ser portador', 'convulsar', 'comemorado', 'eletrônicas', 'fadigador', 'alarmantes', 'refugiados', 'esclerosada', 'assediadora', 'finlandeses', 'bancarrotear', 'ininterruptas', 'parasito', 'espatifados', 'refugiadas', 'luxuriosas', 'pantafaçuda', 'lambeiro', 'arrefecer', 'competir', 'desgraçada', 'morna', 'enérgicos', 'desencobrir', 'interpretados', 'otimista', 'cumprir', 'aqueronteu', 'retumbar', 'caquéctica', 'conscienciosas', 'expluir', 'incontactável', 'especado', 'ladrona', 'submisso', 'reagravar', 'plebeia', 'antagónicos', 'encerrar', 'sacrificada', 'escancaradas', 'mastodônticas', 'abusador', 'amaricados', 'corporal', 'penitenciar', 'sabido', 'distinto', 'facínoras', 'regelado', 'bonapartista', 'adular', 'turística', 'apresar', 'ser um indício de', 'polémico', 'contidas', 'ínclitas', 'originários', 'inconstantes', 'desendemoniar', 'organizados', 'afidalgar', 'desorado', 'justo', 'ático', 'pencudos', 'emascular', 'urgente', 'concentrados', 'surpreender', 'pencó', 'barulhentos', 'futuras', 'roncão', 'transfazer', 'fertilizada', 'esguedelhado', 'incomum', 'imobilizados', 'desconcertante', 'assimilada', 'zombeteiro', 'ricalhaças', 'intrépido', 'sobranceiras', 'circuncisas', 'paridos', 'depositar', 'importunas', '#aimeucora', 'vivedor', 'dúbio', 'ressonadores', 'antifederalistas']\n"
     ]
    }
   ],
   "source": [
    "w_to_get = []\n",
    "for i in randomlist:\n",
    "    w_to_get.append(lexico[i][0])\n",
    "print(w_to_get)"
   ]
  },
  {
   "cell_type": "code",
   "execution_count": 42,
   "metadata": {},
   "outputs": [
    {
     "data": {
      "text/html": [
       "<div>\n",
       "<style scoped>\n",
       "    .dataframe tbody tr th:only-of-type {\n",
       "        vertical-align: middle;\n",
       "    }\n",
       "\n",
       "    .dataframe tbody tr th {\n",
       "        vertical-align: top;\n",
       "    }\n",
       "\n",
       "    .dataframe thead th {\n",
       "        text-align: right;\n",
       "    }\n",
       "</style>\n",
       "<table border=\"1\" class=\"dataframe\">\n",
       "  <thead>\n",
       "    <tr style=\"text-align: right;\">\n",
       "      <th></th>\n",
       "      <th>function</th>\n",
       "      <th>collisions</th>\n",
       "      <th>meantime_put</th>\n",
       "      <th>meantime_get</th>\n",
       "    </tr>\n",
       "  </thead>\n",
       "  <tbody>\n",
       "  </tbody>\n",
       "</table>\n",
       "</div>"
      ],
      "text/plain": [
       "Empty DataFrame\n",
       "Columns: [function, collisions, meantime_put, meantime_get]\n",
       "Index: []"
      ]
     },
     "execution_count": 42,
     "metadata": {},
     "output_type": "execute_result"
    }
   ],
   "source": [
    "da = pd.DataFrame({'function': [],\n",
    "                   'collisions': [],\n",
    "                   'meantime_put': [],\n",
    "                   'meantime_get': []})\n",
    "da"
   ]
  },
  {
   "cell_type": "markdown",
   "metadata": {},
   "source": [
    "# First Function"
   ]
  },
  {
   "cell_type": "code",
   "execution_count": 43,
   "metadata": {
    "tags": []
   },
   "outputs": [
    {
     "name": "stdout",
     "output_type": "stream",
     "text": [
      "['carro', ['carro', []], 9926]\n"
     ]
    }
   ],
   "source": [
    "H = table.HTable()\n",
    "H.take_f(fun.f1)\n",
    "H.put(lexico)\n",
    "for i in w_to_get:\n",
    "    H.get(i)\n",
    "#H.print_table()\n",
    "print(H.get('carro'))"
   ]
  },
  {
   "cell_type": "code",
   "execution_count": 44,
   "metadata": {
    "tags": []
   },
   "outputs": [
    {
     "data": {
      "text/html": [
       "<div>\n",
       "<style scoped>\n",
       "    .dataframe tbody tr th:only-of-type {\n",
       "        vertical-align: middle;\n",
       "    }\n",
       "\n",
       "    .dataframe tbody tr th {\n",
       "        vertical-align: top;\n",
       "    }\n",
       "\n",
       "    .dataframe thead th {\n",
       "        text-align: right;\n",
       "    }\n",
       "</style>\n",
       "<table border=\"1\" class=\"dataframe\">\n",
       "  <thead>\n",
       "    <tr style=\"text-align: right;\">\n",
       "      <th></th>\n",
       "      <th>function</th>\n",
       "      <th>collisions</th>\n",
       "      <th>meantime_put</th>\n",
       "      <th>meantime_get</th>\n",
       "    </tr>\n",
       "  </thead>\n",
       "  <tbody>\n",
       "    <tr>\n",
       "      <th>0</th>\n",
       "      <td>f1</td>\n",
       "      <td>11943</td>\n",
       "      <td>0.000006</td>\n",
       "      <td>0.000008</td>\n",
       "    </tr>\n",
       "  </tbody>\n",
       "</table>\n",
       "</div>"
      ],
      "text/plain": [
       "  function  collisions  meantime_put  meantime_get\n",
       "0       f1       11943      0.000006      0.000008"
      ]
     },
     "execution_count": 44,
     "metadata": {},
     "output_type": "execute_result"
    }
   ],
   "source": [
    "da.loc[len(da.index)] = ['f1', H.col_cont, H.meantime_put, H.meantime_get[0]]\n",
    "da"
   ]
  },
  {
   "cell_type": "markdown",
   "metadata": {},
   "source": [
    "# Second Function"
   ]
  },
  {
   "cell_type": "code",
   "execution_count": 45,
   "metadata": {
    "tags": []
   },
   "outputs": [],
   "source": [
    "H = table.HTable()\n",
    "H.take_f(fun.f2)\n",
    "H.put(lexico)\n",
    "for i in w_to_get:\n",
    "    H.get(i)"
   ]
  },
  {
   "cell_type": "code",
   "execution_count": 46,
   "metadata": {
    "tags": []
   },
   "outputs": [
    {
     "data": {
      "text/html": [
       "<div>\n",
       "<style scoped>\n",
       "    .dataframe tbody tr th:only-of-type {\n",
       "        vertical-align: middle;\n",
       "    }\n",
       "\n",
       "    .dataframe tbody tr th {\n",
       "        vertical-align: top;\n",
       "    }\n",
       "\n",
       "    .dataframe thead th {\n",
       "        text-align: right;\n",
       "    }\n",
       "</style>\n",
       "<table border=\"1\" class=\"dataframe\">\n",
       "  <thead>\n",
       "    <tr style=\"text-align: right;\">\n",
       "      <th></th>\n",
       "      <th>function</th>\n",
       "      <th>collisions</th>\n",
       "      <th>meantime_put</th>\n",
       "      <th>meantime_get</th>\n",
       "    </tr>\n",
       "  </thead>\n",
       "  <tbody>\n",
       "    <tr>\n",
       "      <th>0</th>\n",
       "      <td>f1</td>\n",
       "      <td>11943</td>\n",
       "      <td>0.000006</td>\n",
       "      <td>0.000008</td>\n",
       "    </tr>\n",
       "    <tr>\n",
       "      <th>1</th>\n",
       "      <td>f2</td>\n",
       "      <td>9795</td>\n",
       "      <td>0.000003</td>\n",
       "      <td>0.000004</td>\n",
       "    </tr>\n",
       "  </tbody>\n",
       "</table>\n",
       "</div>"
      ],
      "text/plain": [
       "  function  collisions  meantime_put  meantime_get\n",
       "0       f1       11943      0.000006      0.000008\n",
       "1       f2        9795      0.000003      0.000004"
      ]
     },
     "execution_count": 46,
     "metadata": {},
     "output_type": "execute_result"
    }
   ],
   "source": [
    "da.loc[len(da.index)] = ['f2', H.col_cont, H.meantime_put, H.meantime_get[0]]\n",
    "da"
   ]
  },
  {
   "cell_type": "markdown",
   "metadata": {},
   "source": [
    "# Third Function"
   ]
  },
  {
   "cell_type": "code",
   "execution_count": 47,
   "metadata": {
    "tags": []
   },
   "outputs": [],
   "source": [
    "H = table.HTable()\n",
    "H.take_f(fun.f3)\n",
    "H.put(lexico)\n",
    "for i in w_to_get:\n",
    "    H.get(i)\n",
    "#H.print_table()"
   ]
  },
  {
   "cell_type": "code",
   "execution_count": 48,
   "metadata": {
    "tags": []
   },
   "outputs": [
    {
     "data": {
      "text/html": [
       "<div>\n",
       "<style scoped>\n",
       "    .dataframe tbody tr th:only-of-type {\n",
       "        vertical-align: middle;\n",
       "    }\n",
       "\n",
       "    .dataframe tbody tr th {\n",
       "        vertical-align: top;\n",
       "    }\n",
       "\n",
       "    .dataframe thead th {\n",
       "        text-align: right;\n",
       "    }\n",
       "</style>\n",
       "<table border=\"1\" class=\"dataframe\">\n",
       "  <thead>\n",
       "    <tr style=\"text-align: right;\">\n",
       "      <th></th>\n",
       "      <th>function</th>\n",
       "      <th>collisions</th>\n",
       "      <th>meantime_put</th>\n",
       "      <th>meantime_get</th>\n",
       "    </tr>\n",
       "  </thead>\n",
       "  <tbody>\n",
       "    <tr>\n",
       "      <th>0</th>\n",
       "      <td>f1</td>\n",
       "      <td>11943</td>\n",
       "      <td>0.000006</td>\n",
       "      <td>0.000008</td>\n",
       "    </tr>\n",
       "    <tr>\n",
       "      <th>1</th>\n",
       "      <td>f2</td>\n",
       "      <td>9795</td>\n",
       "      <td>0.000003</td>\n",
       "      <td>0.000004</td>\n",
       "    </tr>\n",
       "    <tr>\n",
       "      <th>2</th>\n",
       "      <td>f3</td>\n",
       "      <td>30574</td>\n",
       "      <td>0.000004</td>\n",
       "      <td>0.000025</td>\n",
       "    </tr>\n",
       "  </tbody>\n",
       "</table>\n",
       "</div>"
      ],
      "text/plain": [
       "  function  collisions  meantime_put  meantime_get\n",
       "0       f1       11943      0.000006      0.000008\n",
       "1       f2        9795      0.000003      0.000004\n",
       "2       f3       30574      0.000004      0.000025"
      ]
     },
     "execution_count": 48,
     "metadata": {},
     "output_type": "execute_result"
    }
   ],
   "source": [
    "da.loc[len(da.index)] = ['f3', H.col_cont, H.meantime_put, H.meantime_get[0]]\n",
    "da"
   ]
  },
  {
   "cell_type": "markdown",
   "metadata": {},
   "source": [
    "# Fourth Function"
   ]
  },
  {
   "cell_type": "code",
   "execution_count": 49,
   "metadata": {},
   "outputs": [],
   "source": [
    "H = table.HTable()\n",
    "H.take_f(fun.f4)\n",
    "H.put(lexico)\n",
    "for i in w_to_get:\n",
    "    H.get(i)"
   ]
  },
  {
   "cell_type": "code",
   "execution_count": 50,
   "metadata": {
    "tags": []
   },
   "outputs": [
    {
     "data": {
      "text/html": [
       "<div>\n",
       "<style scoped>\n",
       "    .dataframe tbody tr th:only-of-type {\n",
       "        vertical-align: middle;\n",
       "    }\n",
       "\n",
       "    .dataframe tbody tr th {\n",
       "        vertical-align: top;\n",
       "    }\n",
       "\n",
       "    .dataframe thead th {\n",
       "        text-align: right;\n",
       "    }\n",
       "</style>\n",
       "<table border=\"1\" class=\"dataframe\">\n",
       "  <thead>\n",
       "    <tr style=\"text-align: right;\">\n",
       "      <th></th>\n",
       "      <th>function</th>\n",
       "      <th>collisions</th>\n",
       "      <th>meantime_put</th>\n",
       "      <th>meantime_get</th>\n",
       "    </tr>\n",
       "  </thead>\n",
       "  <tbody>\n",
       "    <tr>\n",
       "      <th>0</th>\n",
       "      <td>f1</td>\n",
       "      <td>11943</td>\n",
       "      <td>0.000006</td>\n",
       "      <td>0.000008</td>\n",
       "    </tr>\n",
       "    <tr>\n",
       "      <th>1</th>\n",
       "      <td>f2</td>\n",
       "      <td>9795</td>\n",
       "      <td>0.000003</td>\n",
       "      <td>0.000004</td>\n",
       "    </tr>\n",
       "    <tr>\n",
       "      <th>2</th>\n",
       "      <td>f3</td>\n",
       "      <td>30574</td>\n",
       "      <td>0.000004</td>\n",
       "      <td>0.000025</td>\n",
       "    </tr>\n",
       "    <tr>\n",
       "      <th>3</th>\n",
       "      <td>f4</td>\n",
       "      <td>10343</td>\n",
       "      <td>0.000006</td>\n",
       "      <td>0.000005</td>\n",
       "    </tr>\n",
       "  </tbody>\n",
       "</table>\n",
       "</div>"
      ],
      "text/plain": [
       "  function  collisions  meantime_put  meantime_get\n",
       "0       f1       11943      0.000006      0.000008\n",
       "1       f2        9795      0.000003      0.000004\n",
       "2       f3       30574      0.000004      0.000025\n",
       "3       f4       10343      0.000006      0.000005"
      ]
     },
     "execution_count": 50,
     "metadata": {},
     "output_type": "execute_result"
    }
   ],
   "source": [
    "da.loc[len(da.index)] = ['f4', H.col_cont, H.meantime_put, H.meantime_get[0]]\n",
    "da"
   ]
  },
  {
   "cell_type": "markdown",
   "metadata": {},
   "source": [
    "# Fifth Function"
   ]
  },
  {
   "cell_type": "code",
   "execution_count": 51,
   "metadata": {},
   "outputs": [],
   "source": [
    "H = table.HTable()\n",
    "H.take_f(fun.f5)\n",
    "H.put(lexico)\n",
    "for i in w_to_get:\n",
    "    H.get(i)"
   ]
  },
  {
   "cell_type": "code",
   "execution_count": 52,
   "metadata": {
    "tags": []
   },
   "outputs": [
    {
     "data": {
      "text/html": [
       "<div>\n",
       "<style scoped>\n",
       "    .dataframe tbody tr th:only-of-type {\n",
       "        vertical-align: middle;\n",
       "    }\n",
       "\n",
       "    .dataframe tbody tr th {\n",
       "        vertical-align: top;\n",
       "    }\n",
       "\n",
       "    .dataframe thead th {\n",
       "        text-align: right;\n",
       "    }\n",
       "</style>\n",
       "<table border=\"1\" class=\"dataframe\">\n",
       "  <thead>\n",
       "    <tr style=\"text-align: right;\">\n",
       "      <th></th>\n",
       "      <th>function</th>\n",
       "      <th>collisions</th>\n",
       "      <th>meantime_put</th>\n",
       "      <th>meantime_get</th>\n",
       "    </tr>\n",
       "  </thead>\n",
       "  <tbody>\n",
       "    <tr>\n",
       "      <th>0</th>\n",
       "      <td>f1</td>\n",
       "      <td>11943</td>\n",
       "      <td>0.000006</td>\n",
       "      <td>0.000008</td>\n",
       "    </tr>\n",
       "    <tr>\n",
       "      <th>1</th>\n",
       "      <td>f2</td>\n",
       "      <td>9795</td>\n",
       "      <td>0.000003</td>\n",
       "      <td>0.000004</td>\n",
       "    </tr>\n",
       "    <tr>\n",
       "      <th>2</th>\n",
       "      <td>f3</td>\n",
       "      <td>30574</td>\n",
       "      <td>0.000004</td>\n",
       "      <td>0.000025</td>\n",
       "    </tr>\n",
       "    <tr>\n",
       "      <th>3</th>\n",
       "      <td>f4</td>\n",
       "      <td>10343</td>\n",
       "      <td>0.000006</td>\n",
       "      <td>0.000005</td>\n",
       "    </tr>\n",
       "    <tr>\n",
       "      <th>4</th>\n",
       "      <td>f5</td>\n",
       "      <td>11665</td>\n",
       "      <td>0.000003</td>\n",
       "      <td>0.000004</td>\n",
       "    </tr>\n",
       "  </tbody>\n",
       "</table>\n",
       "</div>"
      ],
      "text/plain": [
       "  function  collisions  meantime_put  meantime_get\n",
       "0       f1       11943      0.000006      0.000008\n",
       "1       f2        9795      0.000003      0.000004\n",
       "2       f3       30574      0.000004      0.000025\n",
       "3       f4       10343      0.000006      0.000005\n",
       "4       f5       11665      0.000003      0.000004"
      ]
     },
     "execution_count": 52,
     "metadata": {},
     "output_type": "execute_result"
    }
   ],
   "source": [
    "da.loc[len(da.index)] = ['f5', H.col_cont, H.meantime_put, H.meantime_get[0]]\n",
    "da"
   ]
  },
  {
   "cell_type": "markdown",
   "metadata": {},
   "source": [
    "# Análise Crítica"
   ]
  },
  {
   "cell_type": "code",
   "execution_count": 53,
   "metadata": {},
   "outputs": [],
   "source": [
    "import matplotlib.pyplot as plt\n",
    "import seaborn as sns"
   ]
  },
  {
   "cell_type": "code",
   "execution_count": 54,
   "metadata": {},
   "outputs": [
    {
     "data": {
      "image/png": "[encoded data removed]",
      "text/plain": [
       "<Figure size 432x288 with 1 Axes>"
      ]
     },
     "metadata": {
      "needs_background": "light"
     },
     "output_type": "display_data"
    }
   ],
   "source": [
    "sns.barplot(x='function',y='collisions',data=da)\n",
    "plt.title(\"Número de Colisões\", fontsize=14)\n",
    "plt.savefig('n_collisions.png')"
   ]
  },
  {
   "cell_type": "code",
   "execution_count": 55,
   "metadata": {},
   "outputs": [
    {
     "data": {
      "image/png": "[encoded data removed]",
      "text/plain": [
       "<Figure size 432x288 with 1 Axes>"
      ]
     },
     "metadata": {
      "needs_background": "light"
     },
     "output_type": "display_data"
    }
   ],
   "source": [
    "sns.barplot(x='function',y='meantime_get',data=da)\n",
    "plt.title(\"Tempo médio de Busca\", fontsize=14)\n",
    "plt.savefig('meantime_get.png')"
   ]
  },
  {
   "cell_type": "code",
   "execution_count": 56,
   "metadata": {},
   "outputs": [
    {
     "data": {
      "image/png": "[encoded data removed]",
      "text/plain": [
       "<Figure size 432x288 with 1 Axes>"
      ]
     },
     "metadata": {
      "needs_background": "light"
     },
     "output_type": "display_data"
    }
   ],
   "source": [
    "sns.barplot(x='function',y='meantime_put',data=da)\n",
    "plt.title(\"Tempo médio de Hashing\", fontsize=14)\n",
    "plt.savefig('meantime_put.png')"
   ]
  },
  {
   "cell_type": "code",
   "execution_count": null,
   "metadata": {},
   "outputs": [],
   "source": []
  }
 ],
 "metadata": {
  "kernelspec": {
   "display_name": "Python 3 (ipykernel)",
   "language": "python",
   "name": "python3"
  },
  "language_info": {
   "codemirror_mode": {
    "name": "ipython",
    "version": 3
   },
   "file_extension": ".py",
   "mimetype": "text/x-python",
   "name": "python",
   "nbconvert_exporter": "python",
   "pygments_lexer": "ipython3",
   "version": "3.10.4"
  },
  "vscode": {
   "interpreter": {
    "hash": "e7370f93d1d0cde622a1f8e1c04877d8463912d04d973331ad4851f04de6915a"
   }
  }
 },
 "nbformat": 4,
 "nbformat_minor": 4
}
